{
 "cells": [
  {
   "cell_type": "code",
   "id": "initial_id",
   "metadata": {
    "collapsed": true,
    "ExecuteTime": {
     "end_time": "2025-05-12T03:17:45.364136Z",
     "start_time": "2025-05-12T03:17:45.359636Z"
    }
   },
   "source": [
    "# Fix the SVG content by declaring the 'inkscape' namespace properly\n",
    "# Read the SVG content from file\n",
    "with open('data/floorplan.svg', 'r') as file:\n",
    "    svg_content = file.read()"
   ],
   "outputs": [],
   "execution_count": 13
  },
  {
   "metadata": {
    "ExecuteTime": {
     "end_time": "2025-05-12T03:17:45.683655Z",
     "start_time": "2025-05-12T03:17:45.679107Z"
    }
   },
   "cell_type": "code",
   "source": [
    "# Parse SVG and extract elements\n",
    "from xml.etree import ElementTree as ET\n",
    "\n",
    "ns = {'svg': 'http://www.w3.org/2000/svg', 'inkscape': 'http://www.inkscape.org/namespaces/inkscape'}\n",
    "\n",
    "tree = ET.ElementTree(ET.fromstring(svg_content))\n",
    "root = tree.getroot()"
   ],
   "id": "c0dd80ac7359726b",
   "outputs": [],
   "execution_count": 14
  },
  {
   "metadata": {
    "ExecuteTime": {
     "end_time": "2025-05-12T03:17:45.985626Z",
     "start_time": "2025-05-12T03:17:45.982435Z"
    }
   },
   "cell_type": "code",
   "source": [
    "def set_labels_from_ids(svg_root):\n",
    "    \"\"\"\n",
    "    Iterates through SVG elements and sets inkscape:label attribute for elements\n",
    "    with IDs matching pattern 'aa-nn' (e.g., 'eo-01', 'ws-01')\n",
    "    \"\"\"\n",
    "    import re\n",
    "\n",
    "    # Pattern to match: two letters followed by hyphen and two digits\n",
    "    pattern = re.compile(r'^[a-z]{2}-\\d{2}$')\n",
    "\n",
    "    # Iterate through all elements in the SVG\n",
    "    for elem in svg_root.iter():\n",
    "        # Check if element has an id attribute\n",
    "        element_id = elem.get('id')\n",
    "        if element_id and pattern.match(element_id):\n",
    "            # Set the inkscape:label attribute to match the id\n",
    "            elem.set('{http://www.inkscape.org/namespaces/inkscape}label', element_id)\n",
    "\n",
    "    return svg_root"
   ],
   "id": "4d5be1b72679b0b9",
   "outputs": [],
   "execution_count": 15
  },
  {
   "metadata": {
    "ExecuteTime": {
     "end_time": "2025-05-12T03:17:46.295433Z",
     "start_time": "2025-05-12T03:17:46.292085Z"
    }
   },
   "cell_type": "code",
   "source": [
    "def save_readable_svg(svg_root, filename):\n",
    "    \"\"\"\n",
    "    Save the SVG tree in a readable format with proper encoding and namespace declarations\n",
    "    \"\"\"\n",
    "    # Register the namespaces to prevent ns0 automatic prefixes\n",
    "    ET.register_namespace('', \"http://www.w3.org/2000/svg\")\n",
    "    ET.register_namespace('inkscape', \"http://www.inkscape.org/namespaces/inkscape\")\n",
    "\n",
    "    # Convert to string with proper encoding\n",
    "    svg_string = ET.tostring(svg_root, encoding='unicode', method='xml')\n",
    "\n",
    "    # Write to file with proper formatting\n",
    "    with open(filename, 'w', encoding='utf-8') as f:\n",
    "        f.write('<?xml version=\"1.0\" encoding=\"UTF-8\" standalone=\"no\"?>\\n')\n",
    "        f.write(svg_string)\n",
    "\n"
   ],
   "id": "d0dee3a6cd5f0d6f",
   "outputs": [],
   "execution_count": 16
  },
  {
   "metadata": {
    "ExecuteTime": {
     "end_time": "2025-05-12T03:17:46.746506Z",
     "start_time": "2025-05-12T03:17:46.743048Z"
    }
   },
   "cell_type": "code",
   "source": [
    "# Usage (replace the previous tree.write() with this)\n",
    "labeled_root = set_labels_from_ids(root)\n",
    "save_readable_svg(labeled_root, 'data/floorplan_labeled.svg')"
   ],
   "id": "3789e5a322e45d6d",
   "outputs": [],
   "execution_count": 17
  },
  {
   "metadata": {},
   "cell_type": "code",
   "outputs": [],
   "execution_count": null,
   "source": "",
   "id": "c09d8e78adf49f19"
  }
 ],
 "metadata": {
  "kernelspec": {
   "display_name": "Python 3",
   "language": "python",
   "name": "python3"
  },
  "language_info": {
   "codemirror_mode": {
    "name": "ipython",
    "version": 2
   },
   "file_extension": ".py",
   "mimetype": "text/x-python",
   "name": "python",
   "nbconvert_exporter": "python",
   "pygments_lexer": "ipython2",
   "version": "2.7.6"
  }
 },
 "nbformat": 4,
 "nbformat_minor": 5
}
